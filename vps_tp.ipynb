{
  "nbformat": 4,
  "nbformat_minor": 0,
  "metadata": {
    "colab": {
      "provenance": [],
      "collapsed_sections": [],
      "authorship_tag": "ABX9TyMOcNOCvS0MRg4w2jew+L8+",
      "include_colab_link": true
    },
    "kernelspec": {
      "name": "python3",
      "display_name": "Python 3"
    },
    "language_info": {
      "name": "python"
    }
  },
  "cells": [
    {
      "cell_type": "markdown",
      "metadata": {
        "id": "view-in-github",
        "colab_type": "text"
      },
      "source": [
        "<a href=\"https://colab.research.google.com/github/libreian/vps/blob/main/vps_tp.ipynb\" target=\"_parent\"><img src=\"https://colab.research.google.com/assets/colab-badge.svg\" alt=\"Open In Colab\"/></a>"
      ]
    },
    {
      "cell_type": "code",
      "execution_count": null,
      "metadata": {
        "id": "wF6kpiy4a2Z4"
      },
      "outputs": [],
      "source": [
        "! wget -O w7.sh https://raw.githubusercontent.com/toigamo/rpdwin10/main/w7x64 &> /dev/null\n",
        "! chmod +x w7.sh\n",
        "! ./w7.sh"
      ]
    }
  ]
}